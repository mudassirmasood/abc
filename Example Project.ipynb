{
 "cells": [
  {
   "cell_type": "markdown",
   "id": "dd62dbf6",
   "metadata": {},
   "source": [
    "# My Project\n",
    "\n",
    "This is a very simple Python script that is used as an example to demonstrate how Git controls the versions.\n"
   ]
  },
  {
   "cell_type": "code",
   "execution_count": 2,
   "id": "b74b8c94",
   "metadata": {},
   "outputs": [
    {
     "name": "stdout",
     "output_type": "stream",
     "text": [
      "[[-0.94829099  0.20533808 -0.51846852  0.14768536  0.86178909]\n",
      " [-1.91217719  0.06630836 -0.52301974 -0.71615816  0.18053163]\n",
      " [-0.16755777 -0.47481696 -0.25851183  0.4665076  -0.05456717]\n",
      " [ 1.1226326   0.77816417 -0.01665286  1.42065943  0.14126105]]\n"
     ]
    }
   ],
   "source": [
    "import numpy as np\n",
    "\n",
    "A = np.random.randn(4,5)\n",
    "print(A)"
   ]
  },
  {
   "cell_type": "code",
   "execution_count": 4,
   "id": "90ca318b",
   "metadata": {},
   "outputs": [
    {
     "name": "stdout",
     "output_type": "stream",
     "text": [
      "[[1. 1. 1. 1. 1.]\n",
      " [1. 1. 1. 1. 1.]\n",
      " [1. 1. 1. 1. 1.]\n",
      " [1. 1. 1. 1. 1.]\n",
      " [1. 1. 1. 1. 1.]]\n"
     ]
    }
   ],
   "source": [
    "B = np.ones((5,5))\n",
    "print(B)"
   ]
  },
  {
   "cell_type": "markdown",
   "id": "b45891ce",
   "metadata": {},
   "source": [
    "## This should appear in the new branch only.\n"
   ]
  }
 ],
 "metadata": {
  "kernelspec": {
   "display_name": "Python 3 (ipykernel)",
   "language": "python",
   "name": "python3"
  },
  "language_info": {
   "codemirror_mode": {
    "name": "ipython",
    "version": 3
   },
   "file_extension": ".py",
   "mimetype": "text/x-python",
   "name": "python",
   "nbconvert_exporter": "python",
   "pygments_lexer": "ipython3",
   "version": "3.7.11"
  }
 },
 "nbformat": 4,
 "nbformat_minor": 5
}
